{
  "cells": [
    {
      "cell_type": "markdown",
      "source": [
        "# **Advance_Data_structure_Assignment**"
      ],
      "metadata": {
        "id": "MNUDZifNWHgR"
      },
      "id": "MNUDZifNWHgR"
    },
    {
      "cell_type": "code",
      "execution_count": null,
      "id": "71ac1df9-d94e-4f75-a882-480a15da3664",
      "metadata": {
        "id": "71ac1df9-d94e-4f75-a882-480a15da3664",
        "outputId": "3f192aad-5b9e-41c9-a304-bf313ea2246a"
      },
      "outputs": [
        {
          "name": "stdin",
          "output_type": "stream",
          "text": [
            " PWSkills\n"
          ]
        },
        {
          "name": "stdout",
          "output_type": "stream",
          "text": [
            "Original String:  PWSkills\n",
            "Reverse String:  sllikSWP\n"
          ]
        }
      ],
      "source": [
        "\n",
        "\"Que1- Write a code to reverse a string.\"\n",
        "#Define a function\n",
        "def rev_func(string):\n",
        "    # Declare a string variable\n",
        "    revstr = \"\"\n",
        "\n",
        "    #Iterate string with for loop\n",
        "    for x in string:\n",
        "        # Appending chars in reverse order\n",
        "        revstr = x + revstr\n",
        "    return revstr\n",
        "\n",
        "string = str(input())\n",
        "\n",
        "#Print Original and Reverse string\n",
        "print('Original String: ', string)\n",
        "print('Reverse String: ', rev_func(string))"
      ]
    },
    {
      "cell_type": "code",
      "execution_count": null,
      "id": "319a625f-55ac-4111-87ba-f0827ab451f4",
      "metadata": {
        "id": "319a625f-55ac-4111-87ba-f0827ab451f4",
        "outputId": "1a4df5d1-7fbf-4722-84e7-6cb302267dba"
      },
      "outputs": [
        {
          "name": "stdout",
          "output_type": "stream",
          "text": [
            "No. of vowels : 4\n"
          ]
        }
      ],
      "source": [
        "\"Que2. Write a code to count the number of vowels in a string.\"\n",
        "# Python3 code to count vowel in\n",
        "# a string using set\n",
        "\n",
        "# Function to count vowel\n",
        "def vowel_count(str):\n",
        "\n",
        "\t# Initializing count variable to 0\n",
        "\tcount = 0\n",
        "\n",
        "\t# Creating a set of vowels\n",
        "\tvowel = set(\"aeiouAEIOU\")\n",
        "\n",
        "\t# Loop to traverse the alphabet\n",
        "\t# in the given string\n",
        "\tfor alphabet in str:\n",
        "\n",
        "\t\t# If alphabet is present\n",
        "\t\t# in set vowel\n",
        "\t\tif alphabet in vowel:\n",
        "\t\t\tcount = count + 1\n",
        "\n",
        "\tprint(\"No. of vowels :\", count)\n",
        "\n",
        "# Driver code\n",
        "str = \"sangam mishra\"\n",
        "\n",
        "# Function Call\n",
        "vowel_count(str)"
      ]
    },
    {
      "cell_type": "code",
      "execution_count": null,
      "id": "7b38c968-4bf6-4f4d-91e9-fb5331012275",
      "metadata": {
        "id": "7b38c968-4bf6-4f4d-91e9-fb5331012275",
        "outputId": "4041c943-99a5-4c84-c190-36628f2bf579"
      },
      "outputs": [
        {
          "name": "stdin",
          "output_type": "stream",
          "text": [
            " meem\n"
          ]
        },
        {
          "name": "stdout",
          "output_type": "stream",
          "text": [
            "Yes\n"
          ]
        }
      ],
      "source": [
        "\"Que-3. Write a code to check if a given string is a palindrome or not.\"\n",
        "# function which return reverse of a string\n",
        "\n",
        "def isPalindrome(s):\n",
        "    return s == s[::-1]\n",
        "\n",
        "\n",
        "# Driver code\n",
        "s = input(\"\")\n",
        "ans = isPalindrome(s)\n",
        "\n",
        "if ans:\n",
        "    print(\"Yes\")\n",
        "else:\n",
        "    print(\"No\")"
      ]
    },
    {
      "cell_type": "code",
      "execution_count": null,
      "id": "8aa7f9b9-7105-430b-bebb-59173583a255",
      "metadata": {
        "id": "8aa7f9b9-7105-430b-bebb-59173583a255",
        "outputId": "6f319e95-0690-4635-f2dc-2eeda06d0128"
      },
      "outputs": [
        {
          "name": "stdout",
          "output_type": "stream",
          "text": [
            "true\n"
          ]
        }
      ],
      "source": [
        "\"Que-4. Write a code to check if two given strings are anagrams of each other.\"\n",
        "# Python Code to check if two Strings are anagram of\n",
        "# each other using sorting\n",
        "\n",
        "def areAnagrams(s1, s2):\n",
        "\n",
        "    # Sort both strings\n",
        "    s1 = sorted(s1)\n",
        "    s2 = sorted(s2)\n",
        "\n",
        "    # Compare sorted strings\n",
        "    return s1 == s2\n",
        "\n",
        "if __name__ == \"__main__\":\n",
        "    s1 = \"PWskills\"\n",
        "    s2 = \"silksWlP\"\n",
        "    print(\"true\" if areAnagrams(s1, s2) else \"false\")"
      ]
    },
    {
      "cell_type": "code",
      "execution_count": null,
      "id": "34a3d2de-786d-4764-ade2-34d2df70fdc3",
      "metadata": {
        "id": "34a3d2de-786d-4764-ade2-34d2df70fdc3",
        "outputId": "ef3b95fc-ef9e-49c1-e3ee-1299619b192b"
      },
      "outputs": [
        {
          "name": "stdout",
          "output_type": "stream",
          "text": [
            "The original string is : PWskills is best for skills\n",
            "The substring to find : skills\n",
            "The start indices of the substrings are : [2, 21]\n"
          ]
        }
      ],
      "source": [
        "\"Que5-. Write a code to find all occurrences of a given substring within another string.\"\n",
        "\n",
        "test_str = \"PWskills is best for skills\"\n",
        "\n",
        "# initializing substring\n",
        "test_sub = \"skills\"\n",
        "\n",
        "# printing original string\n",
        "print(\"The original string is : \" + test_str)\n",
        "\n",
        "# printing substring\n",
        "print(\"The substring to find : \" + test_sub)\n",
        "res=[]\n",
        "while(test_str.find(test_sub)!=-1):\n",
        "\tres.append(test_str.find(test_sub))\n",
        "\ttest_str=test_str.replace(test_sub,\"*\"*len(test_sub),1)\n",
        "\n",
        "# printing result\n",
        "print(\"The start indices of the substrings are : \" + str(res))\n",
        "\n"
      ]
    },
    {
      "cell_type": "code",
      "execution_count": 25,
      "id": "9a10f2d8-5a01-443b-a29e-b7a37ad568bb",
      "metadata": {
        "colab": {
          "base_uri": "https://localhost:8080/"
        },
        "id": "9a10f2d8-5a01-443b-a29e-b7a37ad568bb",
        "outputId": "80580078-1895-43c2-a90e-523451f5f7ee"
      },
      "outputs": [
        {
          "output_type": "stream",
          "name": "stdout",
          "text": [
            "a2bc5a3\n"
          ]
        }
      ],
      "source": [
        "\"Que-6. Write a code to perform basic string compression using the counts of repeated characters.\"\n",
        "def compress_string(text):\n",
        "  \"\"\"Compresses a string using the counts of repeated characters.\n",
        "\n",
        "  Args:\n",
        "    text: The string to compress.\n",
        "\n",
        "  Returns:\n",
        "    The compressed string.\n",
        "  \"\"\"\n",
        "  if not text:  # Handle empty string\n",
        "    return \"\"\n",
        "\n",
        "  compressed = \"\"\n",
        "  count = 1\n",
        "  for i in range(len(text) - 1):\n",
        "    if text[i] == text[i + 1]:\n",
        "      count += 1\n",
        "    else:\n",
        "      compressed += text[i] + (str(count) if count > 1 else \"\")\n",
        "      count = 1  # Reset count for the next character\n",
        "\n",
        "  # Add the last character and its count\n",
        "  compressed += text[-1] + (str(count) if count > 1 else \"\")\n",
        "\n",
        "  return compressed\n",
        "\n",
        "# Example usage\n",
        "text = \"aabcccccaaa\"\n",
        "compressed_text = compress_string(text)\n",
        "print(compressed_text)  # To see the output, run the code."
      ]
    },
    {
      "cell_type": "code",
      "execution_count": null,
      "id": "f36a4a12-807c-41c3-8fff-158dd1a46cf2",
      "metadata": {
        "id": "f36a4a12-807c-41c3-8fff-158dd1a46cf2",
        "outputId": "8a7969bb-5254-4c2b-ee10-510bc999a06a"
      },
      "outputs": [
        {
          "name": "stdout",
          "output_type": "stream",
          "text": [
            "False\n"
          ]
        }
      ],
      "source": [
        "\n",
        "\"Que-7. Write a code to determine if a string has all unique characters.\"\n",
        "st = \"abcbd\"\n",
        "a=\"\"\n",
        "for i in st:\n",
        "\tif i not in a:\n",
        "\t\ta+=i\n",
        "if(a==st):\n",
        "\tprint(True)\n",
        "else:\n",
        "\tprint(False)\n",
        "\n",
        "\n",
        "\n"
      ]
    },
    {
      "cell_type": "code",
      "execution_count": null,
      "id": "809655e4-c609-4eaf-aea9-9b300abe97bf",
      "metadata": {
        "id": "809655e4-c609-4eaf-aea9-9b300abe97bf",
        "outputId": "b980b4ff-25bf-471b-da11-566e4d9b6210"
      },
      "outputs": [
        {
          "name": "stdout",
          "output_type": "stream",
          "text": [
            "sangam mishra\n"
          ]
        }
      ],
      "source": [
        "\"Que-8. Write a code to convert a given string to uppercase or lowercase.\"\n",
        "# Python3 program to Convert characters\n",
        "# of a string to opposite case\n",
        "\n",
        "str = \"SANGAM MISHRA\"\n",
        "x=\"\"\n",
        "for i in str:\n",
        "\tif(i.isupper()):\n",
        "\t\tx+=i.lower()\n",
        "\telse:\n",
        "\t\tx+=i.upper()\n",
        "print(x)\n",
        "\n",
        "\n",
        "\n",
        "\n",
        "\n"
      ]
    },
    {
      "cell_type": "code",
      "execution_count": null,
      "id": "42e3d49e-9f09-495a-b0ca-7cdf8dabf60f",
      "metadata": {
        "id": "42e3d49e-9f09-495a-b0ca-7cdf8dabf60f",
        "outputId": "aae94e45-e14c-4b26-84eb-6060fd7e5a1d"
      },
      "outputs": [
        {
          "name": "stdout",
          "output_type": "stream",
          "text": [
            "No of words: 1\n"
          ]
        }
      ],
      "source": [
        "\"Que-9. Write a code to count the number of words in a string.\"\n",
        "def count_words(s):\n",
        "    # Check if the string is null or empty then return zero\n",
        "    if not s:\n",
        "        return 0\n",
        "\n",
        "    count = 0\n",
        "    lines = s.split(\"/\")\n",
        "    for line in lines:\n",
        "\n",
        "        # Ignore empty lines\n",
        "        if line.strip():\n",
        "            count += 1\n",
        "\n",
        "    return count\n",
        "\n",
        "s = \"abc\\\\p\\\"\"\n",
        "print(\"No of words:\", count_words(s))\n",
        "\n",
        "# This code is contributed by kislay__kumar"
      ]
    },
    {
      "cell_type": "code",
      "execution_count": null,
      "id": "c63a3c8f-36a3-4877-a252-ceb326c1ae46",
      "metadata": {
        "id": "c63a3c8f-36a3-4877-a252-ceb326c1ae46",
        "outputId": "ff935447-4b7f-48d6-a471-f2810baa83ce"
      },
      "outputs": [
        {
          "name": "stdout",
          "output_type": "stream",
          "text": [
            "The concatenated string is\n",
            "Welcome To PWskills\n"
          ]
        }
      ],
      "source": [
        "\"Que-10. Write a code to concatenate two strings without using the + operator.\"\n",
        "str1 = \"Welcome\"\n",
        "str2 = \"To PWskills\"\n",
        "\n",
        "\n",
        "concat = \" \".join([str1,str2])\n",
        "print(\"The concatenated string is\")\n",
        "print(concat)"
      ]
    },
    {
      "cell_type": "code",
      "execution_count": 23,
      "id": "b5846cab-d550-4718-af8e-c2d15265d837",
      "metadata": {
        "colab": {
          "base_uri": "https://localhost:8080/"
        },
        "id": "b5846cab-d550-4718-af8e-c2d15265d837",
        "outputId": "ecc4947b-8bea-4702-a20c-5d1ac7e49f89"
      },
      "outputs": [
        {
          "output_type": "stream",
          "name": "stdout",
          "text": [
            "[1, 3, 4, 5]\n"
          ]
        }
      ],
      "source": [
        "\"Que-11. Write a code to remove all occurrences of a specific element from a list.\"\n",
        "def remove_all_occurrences(my_list, element):\n",
        "  \"\"\"Removes all occurrences of a specific element from a list.\n",
        "\n",
        "  Args:\n",
        "    my_list: The list to modify.\n",
        "    element: The element to remove.\n",
        "\n",
        "  Returns:\n",
        "    The modified list with all occurrences of the element removed.\n",
        "  \"\"\"\n",
        "  return [x for x in my_list if x != element]\n",
        "\n",
        "# Example usage\n",
        "my_list = [1, 2, 3, 2, 4, 2, 5]\n",
        "element_to_remove = 2\n",
        "modified_list = remove_all_occurrences(my_list, element_to_remove)\n",
        "print(modified_list)  # To see the output, run the code."
      ]
    },
    {
      "cell_type": "code",
      "execution_count": 24,
      "id": "36657538-5637-4953-9dff-9980ac6ff9d1",
      "metadata": {
        "colab": {
          "base_uri": "https://localhost:8080/"
        },
        "id": "36657538-5637-4953-9dff-9980ac6ff9d1",
        "outputId": "dea381f5-2d9e-4b9d-a54e-a66f17852790"
      },
      "outputs": [
        {
          "output_type": "stream",
          "name": "stdout",
          "text": [
            "4\n"
          ]
        }
      ],
      "source": [
        "\"Que-12. Implement a code to find the second largest number in a given list of integers.\"\n",
        "def find_second_largest(numbers):\n",
        "  \"\"\"Finds the second largest number in a list of integers.\n",
        "\n",
        "  Args:\n",
        "    numbers: A list of integers.\n",
        "\n",
        "  Returns:\n",
        "    The second largest number in the list, or None if the list has\n",
        "    fewer than 2 elements or contains only duplicates.\n",
        "  \"\"\"\n",
        "  if len(numbers) < 2:  # Handle lists with less than 2 elements\n",
        "    return None\n",
        "\n",
        "  # Remove duplicates and sort in descending order\n",
        "  unique_numbers = sorted(list(set(numbers)), reverse=True)\n",
        "\n",
        "  if len(unique_numbers) < 2:  # Handle lists with only duplicates\n",
        "    return None\n",
        "\n",
        "  return unique_numbers[1]  # Second largest element after sorting\n",
        "\n",
        "# Example usage\n",
        "numbers = [1, 5, 2, 4, 3, 5]\n",
        "second_largest_num = find_second_largest(numbers)\n",
        "print(second_largest_num)  # To see the output, run the code."
      ]
    },
    {
      "cell_type": "code",
      "execution_count": null,
      "id": "86dc7a82-ffd4-4059-8202-d9180133f11b",
      "metadata": {
        "id": "86dc7a82-ffd4-4059-8202-d9180133f11b",
        "outputId": "e820f76a-1c59-434b-a2fa-55b4e619dbb8"
      },
      "outputs": [
        {
          "name": "stdout",
          "output_type": "stream",
          "text": [
            "{'apple': 2, 'banana': 3, 'orange': 1}\n"
          ]
        }
      ],
      "source": [
        "\"Que-13. Create a code to count the occurrences of each element in a list and return a dictionary with elements as keys and their counts as values.\"\n",
        "\n",
        "a = ['apple', 'banana', 'apple', 'orange', 'banana', 'banana']\n",
        "\n",
        "# Create an empty dictionary to store the counts\n",
        "b = {}\n",
        "\n",
        "# Loop through the list\n",
        "for c in a:\n",
        "    # If the item is already in dictionary, increase its count\n",
        "    if c in b:\n",
        "        b[c] += 1\n",
        "    # If the item is not in dictionary, add it with a count of 1\n",
        "    else:\n",
        "        b[c] = 1\n",
        "print(b)"
      ]
    },
    {
      "cell_type": "code",
      "execution_count": null,
      "id": "439c3e8b-e6a2-48f3-9c52-73a69aa16305",
      "metadata": {
        "id": "439c3e8b-e6a2-48f3-9c52-73a69aa16305",
        "outputId": "d787ac21-2df3-4dfa-966a-27717455dd3e"
      },
      "outputs": [
        {
          "name": "stdout",
          "output_type": "stream",
          "text": [
            "[5, 4, 3, 2, 1]\n"
          ]
        }
      ],
      "source": [
        "\"Que-14. Write a code to reverse a list in-place without using any built-in reverse functions.\"\n",
        "a = [1, 2, 3, 4, 5]\n",
        "\n",
        "start = 0\n",
        "end = len(a) - 1\n",
        "\n",
        "# Swap elements until start index crosses end index\n",
        "while start < end:\n",
        "    a[start], a[end] = a[end], a[start]\n",
        "    start += 1\n",
        "    end -= 1\n",
        "print(a)\n"
      ]
    },
    {
      "cell_type": "code",
      "execution_count": null,
      "id": "e90a48c2-fb84-412d-9411-fbc1899e592e",
      "metadata": {
        "id": "e90a48c2-fb84-412d-9411-fbc1899e592e",
        "outputId": "76c3556c-27a7-4d47-b318-8cf8f9c593ec"
      },
      "outputs": [
        {
          "name": "stdout",
          "output_type": "stream",
          "text": [
            "[1, 2, 3, 4, 5]\n"
          ]
        }
      ],
      "source": [
        "\"Que-15. Implement a code to find and remove duplicates from a list while preserving the original order of elements.\"\n",
        "a = [1, 2, 2, 3, 4, 4, 5]\n",
        "\n",
        "b = []\n",
        "\n",
        "for x in a:\n",
        "    if x not in b:\n",
        "        b.append(x)\n",
        "print(b)\n"
      ]
    },
    {
      "cell_type": "code",
      "execution_count": null,
      "id": "fd383406-81d7-48d6-9ac8-13553d4caa23",
      "metadata": {
        "id": "fd383406-81d7-48d6-9ac8-13553d4caa23",
        "outputId": "ec2c2083-aa33-4bc1-f851-858e58521bd5"
      },
      "outputs": [
        {
          "name": "stdout",
          "output_type": "stream",
          "text": [
            "True\n",
            "False\n"
          ]
        }
      ],
      "source": [
        "\"Que-16. Create a code to check if a given list is sorted (either in ascending or descending order) or not.\"\n",
        "def is_sorted(a):\n",
        "\n",
        "    # Iterate through list, comparing each element to next\n",
        "    for i in range(len(a) - 1):\n",
        "\n",
        "        # If current element is greater than next,\n",
        "        # list is not sorted\n",
        "        if a[i] > a[i + 1]:\n",
        "            return False\n",
        "\n",
        "    # If no elements were out of order, list is sorted\n",
        "    return True\n",
        "\n",
        "# Test with a sorted list\n",
        "a = [1, 2, 3, 4, 5]\n",
        "print(is_sorted(a))\n",
        "\n",
        "# Test with an unsorted list\n",
        "b = [5, 2, 3, 4, 1]\n",
        "print(is_sorted(b))\n"
      ]
    },
    {
      "cell_type": "code",
      "execution_count": 22,
      "id": "4a46789f-8386-483d-a3e0-236fd8fcd1e7",
      "metadata": {
        "colab": {
          "base_uri": "https://localhost:8080/"
        },
        "id": "4a46789f-8386-483d-a3e0-236fd8fcd1e7",
        "outputId": "85e36fc1-ea3c-42ca-888e-8ac37dbc2fa3"
      },
      "outputs": [
        {
          "output_type": "stream",
          "name": "stdout",
          "text": [
            "[1, 2, 3, 4, 5, 6, 7, 8]\n"
          ]
        }
      ],
      "source": [
        "\"Que-17. Write a code to merge two sorted lists into a single sorted list.\"\n",
        "def merge_sorted_lists(list1, list2):\n",
        "  \"\"\"Merges two sorted lists into a single sorted list.\n",
        "\n",
        "  Args:\n",
        "    list1: The first sorted list.\n",
        "    list2: The second sorted list.\n",
        "\n",
        "  Returns:\n",
        "    A new sorted list containing all elements from both input lists.\n",
        "  \"\"\"\n",
        "  merged_list = []\n",
        "  i = j = 0\n",
        "  while i < len(list1) and j < len(list2):\n",
        "    if list1[i] <= list2[j]:\n",
        "      merged_list.append(list1[i])\n",
        "      i += 1\n",
        "    else:\n",
        "      merged_list.append(list2[j])\n",
        "      j += 1\n",
        "  # Add any remaining elements from list1 or list2\n",
        "  merged_list.extend(list1[i:])\n",
        "  merged_list.extend(list2[j:])\n",
        "  return merged_list\n",
        "\n",
        "# Example usage\n",
        "list1 = [1, 3, 5, 7]\n",
        "list2 = [2, 4, 6, 8]\n",
        "merged_list = merge_sorted_lists(list1, list2)\n",
        "print(merged_list)  # To see the output, run the code."
      ]
    },
    {
      "cell_type": "code",
      "execution_count": null,
      "id": "f3833785-382e-418e-ba9a-3af043ce8738",
      "metadata": {
        "id": "f3833785-382e-418e-ba9a-3af043ce8738",
        "outputId": "f1b8be47-dbd5-4036-aa8b-4c28f2599084"
      },
      "outputs": [
        {
          "name": "stdout",
          "output_type": "stream",
          "text": [
            "[9, 11, 26, 28]\n"
          ]
        }
      ],
      "source": [
        "\"Que-18. Implement a code to find the intersection of two given lists.\"\n",
        "\n",
        "def intersection(lst1, lst2):\n",
        "    lst3 = [value for value in lst1 if value in lst2]\n",
        "    return lst3\n",
        "\n",
        "# Driver Code\n",
        "lst1 = [4, 9, 1, 17, 11, 26, 28, 54, 69]\n",
        "lst2 = [9, 9, 74, 21, 45, 11, 63, 28, 26]\n",
        "print(intersection(lst1, lst2))"
      ]
    },
    {
      "cell_type": "code",
      "execution_count": null,
      "id": "0bcbb24f-df25-4cd7-a50f-0de366b4266b",
      "metadata": {
        "id": "0bcbb24f-df25-4cd7-a50f-0de366b4266b",
        "outputId": "a20fa87e-97df-4c2a-9a48-7474c02e2823"
      },
      "outputs": [
        {
          "name": "stdout",
          "output_type": "stream",
          "text": [
            "Union lists: [1, 2, 3, 4, 5, 6]\n"
          ]
        }
      ],
      "source": [
        "\"Que-19. Create a code to find the union of two lists without duplicates.\"\n",
        "a = [1, 2, 3, 4]\n",
        "b = [3, 4, 5, 6]\n",
        "\n",
        "# Find the union of lists\n",
        "union_list = list(set(a).union(b))\n",
        "\n",
        "print(\"Union lists:\", union_list)\n"
      ]
    },
    {
      "cell_type": "code",
      "execution_count": 4,
      "id": "5a5aba63-63e2-4271-90ef-432fa0fc13b6",
      "metadata": {
        "colab": {
          "base_uri": "https://localhost:8080/"
        },
        "id": "5a5aba63-63e2-4271-90ef-432fa0fc13b6",
        "outputId": "53130f6e-29ec-4d96-8417-13f6ed07f601"
      },
      "outputs": [
        {
          "output_type": "stream",
          "name": "stdout",
          "text": [
            "[3, 5, 4, 2, 1]\n"
          ]
        }
      ],
      "source": [
        "\"Que-20. Write a code to shuffle a given list randomly without using any built-in shuffle functions.\"\n",
        "import random\n",
        "\n",
        "def shuffle_list(my_list):\n",
        "  \"\"\"Shuffles a list randomly in-place.\n",
        "\n",
        "  Args:\n",
        "    my_list: The list to shuffle.\n",
        "  \"\"\"\n",
        "  n = len(my_list)\n",
        "  for i in range(n - 1, 0, -1):\n",
        "    j = random.randint(0, i)  # Generate random index between 0 and i\n",
        "    my_list[i], my_list[j] = my_list[j], my_list[i]  # Swap elements\n",
        "\n",
        "# Example usage:\n",
        "my_list = [1, 2, 3, 4, 5]\n",
        "shuffle_list(my_list)\n",
        "print(my_list)  # To see the output, run the code.\n"
      ]
    },
    {
      "cell_type": "code",
      "execution_count": 21,
      "id": "7d92ed4a-7856-4784-b01a-e91269a03655",
      "metadata": {
        "colab": {
          "base_uri": "https://localhost:8080/"
        },
        "id": "7d92ed4a-7856-4784-b01a-e91269a03655",
        "outputId": "9bf36e82-5a17-4341-af9e-ed0d35a0926d"
      },
      "outputs": [
        {
          "output_type": "stream",
          "name": "stdout",
          "text": [
            "(3, 5)\n"
          ]
        }
      ],
      "source": [
        "\"Que-21. Write a code that takes two tuples as input and returns a new tuple containing elements that are common to both input tuples.\"\n",
        "def find_common_elements(tuple1, tuple2):\n",
        "  \"\"\"Finds common elements between two tuples.\n",
        "\n",
        "  Args:\n",
        "    tuple1: The first tuple.\n",
        "    tuple2: The second tuple.\n",
        "\n",
        "  Returns:\n",
        "    A new tuple containing the common elements.\n",
        "  \"\"\"\n",
        "  common_elements = tuple(set(tuple1) & set(tuple2))\n",
        "  return common_elements\n",
        "\n",
        "# Example usage\n",
        "tuple1 = (1, 2, 3, 4, 5)\n",
        "tuple2 = (3, 5, 6, 7, 8)\n",
        "common_tuple = find_common_elements(tuple1, tuple2)\n",
        "print(common_tuple)  # To see the output, run the code."
      ]
    },
    {
      "cell_type": "code",
      "execution_count": 6,
      "id": "6a063686-4643-4594-a811-5f2638ed0370",
      "metadata": {
        "colab": {
          "base_uri": "https://localhost:8080/"
        },
        "id": "6a063686-4643-4594-a811-5f2638ed0370",
        "outputId": "649e244a-7d96-4c88-e6c3-a33a28e531fc"
      },
      "outputs": [
        {
          "output_type": "stream",
          "name": "stdout",
          "text": [
            "Enter a set of integers separated by commas: 3,7,5,4,3\n",
            "Enter a set of integers separated by commas: 4,5,1,6,4\n",
            "Intersection of the two sets: {4, 5}\n"
          ]
        }
      ],
      "source": [
        "\"Que-22. Create a code that prompts the user to enter two sets of integers separated by commas. Then, print the intersection of these two sets.\"\n",
        "def get_set_from_input():\n",
        "  \"\"\"Prompts the user to enter a set of integers and returns a set.\"\"\"\n",
        "  while True:\n",
        "    try:\n",
        "      input_str = input(\"Enter a set of integers separated by commas: \")\n",
        "      elements = [int(x.strip()) for x in input_str.split(',')]\n",
        "      return set(elements)\n",
        "    except ValueError:\n",
        "      print(\"Invalid input. Please enter integers separated by commas.\")\n",
        "\n",
        "# Get the two sets from the user\n",
        "set1 = get_set_from_input()\n",
        "set2 = get_set_from_input()\n",
        "\n",
        "# Calculate the intersection\n",
        "intersection_set = set1.intersection(set2)\n",
        "\n",
        "# Print the intersection\n",
        "print(\"Intersection of the two sets:\", intersection_set)"
      ]
    },
    {
      "cell_type": "code",
      "execution_count": 7,
      "id": "7d8f2f1f-e2bd-4b9e-85d3-02d1a7b20855",
      "metadata": {
        "colab": {
          "base_uri": "https://localhost:8080/"
        },
        "id": "7d8f2f1f-e2bd-4b9e-85d3-02d1a7b20855",
        "outputId": "90dfdfff-4b48-4a3b-d363-3945f45b732f"
      },
      "outputs": [
        {
          "output_type": "stream",
          "name": "stdout",
          "text": [
            "(1, 2, 3, 4, 5, 6)\n"
          ]
        }
      ],
      "source": [
        "\"Que-23. Write a code to concatenate two tuples. The function should take two tuples as input and return a new tuple containing elements from both input tuples.\"\n",
        "\n",
        "def concatenate_tuples(tuple1, tuple2):\n",
        "  \"\"\"Concatenates two tuples and returns a new tuple.\n",
        "\n",
        "  Args:\n",
        "    tuple1: The first tuple.\n",
        "    tuple2: The second tuple.\n",
        "\n",
        "  Returns:\n",
        "    A new tuple containing elements from both input tuples.\n",
        "  \"\"\"\n",
        "  return tuple1 + tuple2\n",
        "\n",
        "# Example usage\n",
        "tuple1 = (1, 2, 3)\n",
        "tuple2 = (4, 5, 6)\n",
        "concatenated_tuple = concatenate_tuples(tuple1, tuple2)\n",
        "print(concatenated_tuple)  # To see the output, run the code."
      ]
    },
    {
      "cell_type": "code",
      "execution_count": 8,
      "id": "fa8bd4c3-76ea-47d6-86ae-5fcbb686a54c",
      "metadata": {
        "colab": {
          "base_uri": "https://localhost:8080/"
        },
        "id": "fa8bd4c3-76ea-47d6-86ae-5fcbb686a54c",
        "outputId": "95011ac2-abfe-440c-fb35-61137fa7b252"
      },
      "outputs": [
        {
          "output_type": "stream",
          "name": "stdout",
          "text": [
            "Enter a set of strings separated by commas: apple, banana, orang\n",
            "Enter a set of strings separated by commas: banana, orange, grape\n",
            "Elements in the first set but not in the second set: {'apple', 'orang'}\n"
          ]
        }
      ],
      "source": [
        "\"Que-24. Develop a code that prompts the user to input two sets of strings. Then, print the elements that are present in the first set but not in the second set.\"\n",
        "\n",
        "def get_string_set_from_input():\n",
        "  \"\"\"Prompts the user to enter a set of strings and returns a set.\"\"\"\n",
        "  input_str = input(\"Enter a set of strings separated by commas: \")\n",
        "  elements = [x.strip() for x in input_str.split(',')]\n",
        "  return set(elements)\n",
        "\n",
        "# Get the two sets of strings from the user\n",
        "set1 = get_string_set_from_input()\n",
        "set2 = get_string_set_from_input()\n",
        "\n",
        "# Find the difference (elements in set1 but not in set2)\n",
        "difference_set = set1.difference(set2)\n",
        "\n",
        "# Print the difference set\n",
        "print(\"Elements in the first set but not in the second set:\", difference_set)"
      ]
    },
    {
      "cell_type": "code",
      "execution_count": 9,
      "id": "3f3afa0e-42f7-477e-8ec2-dd56615f1f3f",
      "metadata": {
        "colab": {
          "base_uri": "https://localhost:8080/"
        },
        "id": "3f3afa0e-42f7-477e-8ec2-dd56615f1f3f",
        "outputId": "820df888-cd68-4b29-c456-c9db8c3c0fcc"
      },
      "outputs": [
        {
          "output_type": "stream",
          "name": "stdout",
          "text": [
            "(2, 3, 4)\n"
          ]
        }
      ],
      "source": [
        "\"Que-25. Create a code that takes a tuple and two integers as input. The function should return a new tuple containing elements from the original tuple within the specified range of indices.\"\n",
        "def get_tuple_slice(original_tuple, start_index, end_index):\n",
        "  \"\"\"Returns a slice of a tuple within the specified range of indices.\n",
        "\n",
        "  Args:\n",
        "    original_tuple: The original tuple.\n",
        "    start_index: The starting index of the slice (inclusive).\n",
        "    end_index: The ending index of the slice (exclusive).\n",
        "\n",
        "  Returns:\n",
        "    A new tuple containing elements from the original tuple within the\n",
        "    specified range of indices.\n",
        "  \"\"\"\n",
        "  return original_tuple[start_index:end_index]\n",
        "\n",
        "# Example usage\n",
        "my_tuple = (1, 2, 3, 4, 5)\n",
        "start_index = 1\n",
        "end_index = 4\n",
        "sliced_tuple = get_tuple_slice(my_tuple, start_index, end_index)\n",
        "print(sliced_tuple)  # To see the output, run the code."
      ]
    },
    {
      "cell_type": "code",
      "execution_count": 10,
      "id": "ab63d86a-b4c2-498d-a514-e2237ad49b30",
      "metadata": {
        "colab": {
          "base_uri": "https://localhost:8080/"
        },
        "id": "ab63d86a-b4c2-498d-a514-e2237ad49b30",
        "outputId": "4bedcff2-531e-4dbc-ce1b-abafbcc1bd6a"
      },
      "outputs": [
        {
          "output_type": "stream",
          "name": "stdout",
          "text": [
            "Enter a set of characters separated by spaces or commas: a, b, c\n",
            "Enter a set of characters separated by spaces or commas: b, c, d, e\n",
            "Union of the two sets: {'a', 'b', 'c', 'd', 'e'}\n"
          ]
        }
      ],
      "source": [
        "\"Que-26. Write a code that prompts the user to input two sets of characters. Then, print the union of these two sets.\"\n",
        "def get_character_set_from_input():\n",
        "  \"\"\"Prompts the user to enter a set of characters and returns a set.\"\"\"\n",
        "  input_str = input(\"Enter a set of characters separated by spaces or commas: \")\n",
        "  # Allow both spaces and commas as separators\n",
        "  characters = input_str.replace(',', ' ').split()\n",
        "  return set(characters)\n",
        "\n",
        "# Get the two sets of characters from the user\n",
        "set1 = get_character_set_from_input()\n",
        "set2 = get_character_set_from_input()\n",
        "\n",
        "# Calculate the union of the two sets\n",
        "union_set = set1.union(set2)\n",
        "\n",
        "# Print the union set\n",
        "print(\"Union of the two sets:\", union_set)"
      ]
    },
    {
      "cell_type": "code",
      "execution_count": 11,
      "id": "e2129d16-3d36-4703-b747-000d9e929640",
      "metadata": {
        "colab": {
          "base_uri": "https://localhost:8080/"
        },
        "id": "e2129d16-3d36-4703-b747-000d9e929640",
        "outputId": "ee5ef313-8973-4f76-b605-612305a45c78"
      },
      "outputs": [
        {
          "output_type": "stream",
          "name": "stdout",
          "text": [
            "Minimum: 1\n",
            "Maximum: 9\n"
          ]
        }
      ],
      "source": [
        "\"Que-27. Develop a code that takes a tuple of integers as input. The function should return the maximum and minimum values from the tuple using tuple unpacking.\"\n",
        "def find_min_max(numbers):\n",
        "  \"\"\"Finds the minimum and maximum values in a tuple of integers.\n",
        "\n",
        "  Args:\n",
        "    numbers: A tuple of integers.\n",
        "\n",
        "  Returns:\n",
        "    A tuple containing the minimum and maximum values.\n",
        "  \"\"\"\n",
        "  if not numbers:  # Handle empty tuple case\n",
        "    return None, None\n",
        "\n",
        "  min_val, max_val = numbers[0], numbers[0]  # Initialize with first element\n",
        "  for num in numbers:\n",
        "    if num < min_val:\n",
        "      min_val = num\n",
        "    if num > max_val:\n",
        "      max_val = num\n",
        "\n",
        "  return min_val, max_val\n",
        "\n",
        "# Example usage\n",
        "numbers = (3, 1, 4, 1, 5, 9, 2, 6)\n",
        "min_num, max_num = find_min_max(numbers)  # Tuple unpacking\n",
        "print(\"Minimum:\", min_num)  # To see the output, run the code.\n",
        "print(\"Maximum:\", max_num)  # To see the output, run the code."
      ]
    },
    {
      "cell_type": "code",
      "execution_count": 12,
      "id": "934a50d1-77da-4b44-861d-ea5bf5a36330",
      "metadata": {
        "colab": {
          "base_uri": "https://localhost:8080/"
        },
        "id": "934a50d1-77da-4b44-861d-ea5bf5a36330",
        "outputId": "45edabde-dc79-40bd-b8ee-b311f379f9d8"
      },
      "outputs": [
        {
          "output_type": "stream",
          "name": "stdout",
          "text": [
            "Union: {1, 2, 3, 4, 5, 6, 7}\n",
            "Intersection: {3, 4, 5}\n",
            "Difference (set1 - set2): {1, 2}\n"
          ]
        }
      ],
      "source": [
        "\"Que-28. Create a code that defines two sets of integers. Then, print the union, intersection, and difference of these two sets.\"\n",
        "# Define the two sets of integers\n",
        "set1 = {1, 2, 3, 4, 5}\n",
        "set2 = {3, 4, 5, 6, 7}\n",
        "\n",
        "# Calculate the union\n",
        "union_set = set1.union(set2)\n",
        "\n",
        "# Calculate the intersection\n",
        "intersection_set = set1.intersection(set2)\n",
        "\n",
        "# Calculate the difference (set1 - set2)\n",
        "difference_set = set1.difference(set2)\n",
        "\n",
        "# Print the results\n",
        "print(\"Union:\", union_set)  # To see the output, run the code.\n",
        "print(\"Intersection:\", intersection_set)  # To see the output, run the code.\n",
        "print(\"Difference (set1 - set2):\", difference_set)  # To see the output, run the code."
      ]
    },
    {
      "cell_type": "code",
      "execution_count": 13,
      "id": "61f95186-c350-4e5c-8799-c35768ed8f19",
      "metadata": {
        "colab": {
          "base_uri": "https://localhost:8080/"
        },
        "id": "61f95186-c350-4e5c-8799-c35768ed8f19",
        "outputId": "b13f9edd-8a9b-4b9b-9eb5-7145879dd5c8"
      },
      "outputs": [
        {
          "output_type": "stream",
          "name": "stdout",
          "text": [
            "The element 2 appears 3 times in the tuple.\n"
          ]
        }
      ],
      "source": [
        "\"Que-29. Write a code that takes a tuple and an element as input. The function should return the count of occurrences of the given element in the tuple.\"\n",
        "def count_occurrences(my_tuple, element):\n",
        "  \"\"\"Counts the occurrences of an element in a tuple.\n",
        "\n",
        "  Args:\n",
        "    my_tuple: The tuple to search in.\n",
        "    element: The element to count.\n",
        "\n",
        "  Returns:\n",
        "    The number of times the element appears in the tuple.\n",
        "  \"\"\"\n",
        "  count = 0\n",
        "  for item in my_tuple:\n",
        "    if item == element:\n",
        "      count += 1\n",
        "  return count\n",
        "\n",
        "# Example usage\n",
        "my_tuple = (1, 2, 3, 2, 4, 2, 5)\n",
        "element_to_count = 2\n",
        "occurrences = count_occurrences(my_tuple, element_to_count)\n",
        "print(f\"The element {element_to_count} appears {occurrences} times in the tuple.\")  # To see the output, run the code."
      ]
    },
    {
      "cell_type": "code",
      "execution_count": 15,
      "id": "30c6483c-5a36-45e9-97a3-87d2f700cfad",
      "metadata": {
        "colab": {
          "base_uri": "https://localhost:8080/"
        },
        "id": "30c6483c-5a36-45e9-97a3-87d2f700cfad",
        "outputId": "bbdc6d5b-fc00-488e-cf8d-5c857d3d0450"
      },
      "outputs": [
        {
          "output_type": "stream",
          "name": "stdout",
          "text": [
            "Enter a set of strings separated by commas: a,b,c,d\n",
            "Enter a set of strings separated by commas: b,d,e,r\n",
            "Symmetric Difference of the two sets: {'a', 'c', 'r', 'e'}\n"
          ]
        }
      ],
      "source": [
        "\"Que-30. Develop a code that prompts the user to input two sets of strings. Then, print the symmetric difference of these two sets.\"\n",
        "def get_string_set_from_input():\n",
        "  \"\"\"Prompts the user to enter a set of strings and returns a set.\"\"\"\n",
        "  input_str = input(\"Enter a set of strings separated by commas: \")\n",
        "  elements = [x.strip() for x in input_str.split(',')]\n",
        "  return set(elements)\n",
        "\n",
        "# Get the two sets of strings from the user\n",
        "set1 = get_string_set_from_input()\n",
        "set2 = get_string_set_from_input()\n",
        "\n",
        "# Calculate the symmetric difference\n",
        "symmetric_difference_set = set1.symmetric_difference(set2)\n",
        "\n",
        "# Print the symmetric difference set\n",
        "print(\"Symmetric Difference of the two sets:\", symmetric_difference_set)  # To see the output, run the code."
      ]
    },
    {
      "cell_type": "code",
      "execution_count": 16,
      "id": "42c29670-b47c-451b-8163-188912ed03d6",
      "metadata": {
        "colab": {
          "base_uri": "https://localhost:8080/"
        },
        "id": "42c29670-b47c-451b-8163-188912ed03d6",
        "outputId": "116786e2-9d0c-462d-f947-68c782f6d7e5"
      },
      "outputs": [
        {
          "output_type": "stream",
          "name": "stdout",
          "text": [
            "{'apple': 3, 'banana': 2, 'orange': 1}\n"
          ]
        }
      ],
      "source": [
        "\"Que-31. Write a code that takes a list of words as input and returns a dictionary where the keys are unique words and the values are the frequencies of those words in the input list.\"\n",
        "def word_frequencies(word_list):\n",
        "  \"\"\"Calculates the frequencies of words in a list.\n",
        "\n",
        "  Args:\n",
        "    word_list: A list of words.\n",
        "\n",
        "  Returns:\n",
        "    A dictionary where keys are unique words and values are their frequencies.\n",
        "  \"\"\"\n",
        "  word_freq = {}\n",
        "  for word in word_list:\n",
        "    word_freq[word] = word_freq.get(word, 0) + 1\n",
        "  return word_freq\n",
        "\n",
        "# Example usage\n",
        "words = [\"apple\", \"banana\", \"apple\", \"orange\", \"banana\", \"apple\"]\n",
        "frequencies = word_frequencies(words)\n",
        "print(frequencies)  # To see the output, run the code."
      ]
    },
    {
      "cell_type": "code",
      "execution_count": 17,
      "id": "8dfc15f0-6c0e-47a5-8738-1e97a1f7006e",
      "metadata": {
        "colab": {
          "base_uri": "https://localhost:8080/"
        },
        "id": "8dfc15f0-6c0e-47a5-8738-1e97a1f7006e",
        "outputId": "2f43eda2-8fd0-414c-fb3b-9350709bad32"
      },
      "outputs": [
        {
          "output_type": "stream",
          "name": "stdout",
          "text": [
            "{'a': 1, 'b': 5, 'c': 7, 'd': 5}\n"
          ]
        }
      ],
      "source": [
        "\"Que-32. Write a code that takes two dictionaries as input and merges them into a single dictionary. If there are common keys, the values should be added together.\"\n",
        "def merge_dictionaries(dict1, dict2):\n",
        "  \"\"\"Merges two dictionaries, adding values of common keys.\n",
        "\n",
        "  Args:\n",
        "    dict1: The first dictionary.\n",
        "    dict2: The second dictionary.\n",
        "\n",
        "  Returns:\n",
        "    A new dictionary containing the merged data.\n",
        "  \"\"\"\n",
        "  merged_dict = dict1.copy()  # Start with a copy of the first dictionary\n",
        "  for key, value in dict2.items():\n",
        "    merged_dict[key] = merged_dict.get(key, 0) + value\n",
        "  return merged_dict\n",
        "\n",
        "# Example usage\n",
        "dict1 = {'a': 1, 'b': 2, 'c': 3}\n",
        "dict2 = {'b': 3, 'c': 4, 'd': 5}\n",
        "merged_dictionary = merge_dictionaries(dict1, dict2)\n",
        "print(merged_dictionary)  # To see the output, run the code."
      ]
    },
    {
      "cell_type": "code",
      "execution_count": 18,
      "id": "44760943-1d5e-49db-bfc9-2f3197d02419",
      "metadata": {
        "colab": {
          "base_uri": "https://localhost:8080/"
        },
        "id": "44760943-1d5e-49db-bfc9-2f3197d02419",
        "outputId": "66ed7d33-9b04-42c7-bff8-a2ee787d7f16"
      },
      "outputs": [
        {
          "output_type": "stream",
          "name": "stdout",
          "text": [
            "10\n"
          ]
        }
      ],
      "source": [
        "\"\"\"\n",
        "Que-33. Write a code to access a value in a nested dictionary. The function should take the dictionary and a list of\n",
        "keys as input, and return the corresponding value. If any of the keys do not exist in the dictionary,\n",
        "the function should return None.\n",
        "\"\"\"\n",
        "\n",
        "def get_nested_value(data, keys):\n",
        "  \"\"\"Accesses a value in a nested dictionary using a list of keys.\n",
        "\n",
        "  Args:\n",
        "    data: The nested dictionary.\n",
        "    keys: A list of keys to navigate the dictionary.\n",
        "\n",
        "  Returns:\n",
        "    The corresponding value if all keys are found, otherwise None.\n",
        "  \"\"\"\n",
        "  current_level = data\n",
        "  for key in keys:\n",
        "    if key in current_level:\n",
        "      current_level = current_level[key]\n",
        "    else:\n",
        "      return None  # Key not found, return None\n",
        "  return current_level  # All keys found, return the value\n",
        "\n",
        "# Example usage\n",
        "data = {'a': {'b': {'c': 10}}}\n",
        "keys = ['a', 'b', 'c']\n",
        "value = get_nested_value(data, keys)\n",
        "print(value)  # To see the output, run the code."
      ]
    },
    {
      "cell_type": "code",
      "execution_count": 19,
      "id": "3dae6000-32bf-43a9-9311-620845ebec72",
      "metadata": {
        "colab": {
          "base_uri": "https://localhost:8080/"
        },
        "id": "3dae6000-32bf-43a9-9311-620845ebec72",
        "outputId": "0d20ad8e-b5db-4d1d-f2d2-e3065fd0ea86"
      },
      "outputs": [
        {
          "output_type": "stream",
          "name": "stdout",
          "text": [
            "Sorted in ascending order: {'banana': 1, 'orange': 2, 'apple': 3}\n",
            "Sorted in descending order: {'apple': 3, 'orange': 2, 'banana': 1}\n"
          ]
        }
      ],
      "source": [
        "\"Que-34. Write a code that takes a dictionary as input and returns a sorted version of it based on the values. You can choose whether to sort in ascending or descending order.\"\n",
        "def sort_dictionary_by_values(input_dict, ascending=True):\n",
        "  \"\"\"Sorts a dictionary by its values.\n",
        "\n",
        "  Args:\n",
        "    input_dict: The dictionary to sort.\n",
        "    ascending: Whether to sort in ascending order (default: True).\n",
        "                  If False, sorts in descending order.\n",
        "\n",
        "  Returns:\n",
        "    A new dictionary sorted by values.\n",
        "  \"\"\"\n",
        "  sorted_items = sorted(input_dict.items(), key=lambda item: item[1], reverse=not ascending)\n",
        "  sorted_dict = dict(sorted_items)\n",
        "  return sorted_dict\n",
        "\n",
        "# Example usage\n",
        "my_dict = {'apple': 3, 'banana': 1, 'orange': 2}\n",
        "sorted_dict_asc = sort_dictionary_by_values(my_dict)  # Ascending order (default)\n",
        "sorted_dict_desc = sort_dictionary_by_values(my_dict, ascending=False)  # Descending order\n",
        "print(\"Sorted in ascending order:\", sorted_dict_asc)  # To see the output, run the code.\n",
        "print(\"Sorted in descending order:\", sorted_dict_desc)  # To see the output, run the code."
      ]
    },
    {
      "cell_type": "code",
      "execution_count": 20,
      "id": "4829efdf-966b-4fff-84dd-b2b785afbf28",
      "metadata": {
        "colab": {
          "base_uri": "https://localhost:8080/"
        },
        "id": "4829efdf-966b-4fff-84dd-b2b785afbf28",
        "outputId": "846cac4f-dcee-4728-8c92-1720f97efd33"
      },
      "outputs": [
        {
          "output_type": "stream",
          "name": "stdout",
          "text": [
            "{1: ['a', 'c'], 2: ['b'], 3: ['d']}\n"
          ]
        }
      ],
      "source": [
        "\"\"\"\n",
        "Que-35. Write a code that inverts a dictionary, swapping keys and values.\n",
        "Ensure that the inverted dictionary correctly handles cases where multiple keys have the same value by\n",
        "storing the keys as a list in the inverted dictionary.\n",
        "\"\"\"\n",
        "from collections import defaultdict\n",
        "\n",
        "def invert_dictionary(input_dict):\n",
        "  \"\"\"Inverts a dictionary, swapping keys and values.\n",
        "\n",
        "  Handles cases where multiple keys have the same value by storing keys as a list.\n",
        "\n",
        "  Args:\n",
        "    input_dict: The dictionary to invert.\n",
        "\n",
        "  Returns:\n",
        "    The inverted dictionary.\n",
        "  \"\"\"\n",
        "  inverted_dict = defaultdict(list)\n",
        "  for key, value in input_dict.items():\n",
        "    inverted_dict[value].append(key)\n",
        "  return dict(inverted_dict)  # Convert back to a regular dictionary\n",
        "\n",
        "# Example usage\n",
        "my_dict = {'a': 1, 'b': 2, 'c': 1, 'd': 3}\n",
        "inverted_dict = invert_dictionary(my_dict)\n",
        "print(inverted_dict)  # To see the output, run the code.\n"
      ]
    }
  ],
  "metadata": {
    "kernelspec": {
      "display_name": "Python 3 (ipykernel)",
      "language": "python",
      "name": "python3"
    },
    "language_info": {
      "codemirror_mode": {
        "name": "ipython",
        "version": 3
      },
      "file_extension": ".py",
      "mimetype": "text/x-python",
      "name": "python",
      "nbconvert_exporter": "python",
      "pygments_lexer": "ipython3",
      "version": "3.12.7"
    },
    "colab": {
      "provenance": []
    }
  },
  "nbformat": 4,
  "nbformat_minor": 5
}